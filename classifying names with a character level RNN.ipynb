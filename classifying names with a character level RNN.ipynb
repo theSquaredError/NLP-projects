{
  "nbformat": 4,
  "nbformat_minor": 0,
  "metadata": {
    "colab": {
      "name": "NLP from scratch.ipynb",
      "provenance": [],
      "collapsed_sections": [],
      "authorship_tag": "ABX9TyNeTyZtkXbRQOAbHkhBepKE",
      "include_colab_link": true
    },
    "kernelspec": {
      "name": "python3",
      "display_name": "Python 3"
    },
    "language_info": {
      "name": "python"
    }
  },
  "cells": [
    {
      "cell_type": "markdown",
      "metadata": {
        "id": "view-in-github",
        "colab_type": "text"
      },
      "source": [
        "<a href=\"https://colab.research.google.com/github/theSquaredError/NLP-projects/blob/main/classifying%20names%20with%20a%20character%20level%20RNN.ipynb\" target=\"_parent\"><img src=\"https://colab.research.google.com/assets/colab-badge.svg\" alt=\"Open In Colab\"/></a>"
      ]
    },
    {
      "cell_type": "markdown",
      "source": [
        "https://pytorch.org/tutorials/intermediate/char_rnn_classification_tutorial.html"
      ],
      "metadata": {
        "id": "7YUM44y2Qdin"
      }
    },
    {
      "cell_type": "markdown",
      "source": [
        "Problem: CLASSIFYING NAMES WITH A CHARACTER-LEVEL RNN"
      ],
      "metadata": {
        "id": "wVUZ6n_75F5T"
      }
    },
    {
      "cell_type": "code",
      "source": [
        "import matplotlib.pyplot as plt"
      ],
      "metadata": {
        "id": "2AWFPro-k196"
      },
      "execution_count": null,
      "outputs": []
    },
    {
      "cell_type": "code",
      "source": [
        "from google.colab import drive\n",
        "drive.mount('/content/drive')"
      ],
      "metadata": {
        "colab": {
          "base_uri": "https://localhost:8080/"
        },
        "id": "r_RHZnSolNpN",
        "outputId": "52cefd4f-f55c-465f-89ee-5bd6c1735d49"
      },
      "execution_count": null,
      "outputs": [
        {
          "output_type": "stream",
          "name": "stdout",
          "text": [
            "Mounted at /content/drive\n"
          ]
        }
      ]
    },
    {
      "cell_type": "code",
      "source": [
        "path = \"/content/drive/MyDrive/Deep Learning/Notebooks\""
      ],
      "metadata": {
        "id": "NlBLTDMdl5R1"
      },
      "execution_count": null,
      "outputs": []
    },
    {
      "cell_type": "markdown",
      "source": [
        "A character-level RNN reads words as a series of characters - outputting a prediction and “hidden state” at each step, feeding its previous hidden state into each next step. We take the final prediction to be the output, i.e. which class the word belongs to."
      ],
      "metadata": {
        "id": "V2NBmQMbjaHI"
      }
    },
    {
      "cell_type": "code",
      "source": [
        "from __future__ import unicode_literals, print_function, division\n",
        "from io import open\n",
        "import glob\n",
        "import os"
      ],
      "metadata": {
        "id": "odwGTGmYmVwk"
      },
      "execution_count": null,
      "outputs": []
    },
    {
      "cell_type": "code",
      "source": [
        "def findFiles(path): return glob.glob(path)\n",
        "print(findFiles(path+'/data/names/*.txt'))"
      ],
      "metadata": {
        "colab": {
          "base_uri": "https://localhost:8080/"
        },
        "id": "sTw2FDGimj_N",
        "outputId": "8de08a04-b51d-466a-bde5-75e8bb0801e5"
      },
      "execution_count": null,
      "outputs": [
        {
          "output_type": "stream",
          "name": "stdout",
          "text": [
            "['/content/drive/MyDrive/Deep Learning/Notebooks/data/names/Polish.txt', '/content/drive/MyDrive/Deep Learning/Notebooks/data/names/Czech.txt', '/content/drive/MyDrive/Deep Learning/Notebooks/data/names/Spanish.txt', '/content/drive/MyDrive/Deep Learning/Notebooks/data/names/Arabic.txt', '/content/drive/MyDrive/Deep Learning/Notebooks/data/names/English.txt', '/content/drive/MyDrive/Deep Learning/Notebooks/data/names/German.txt', '/content/drive/MyDrive/Deep Learning/Notebooks/data/names/Greek.txt', '/content/drive/MyDrive/Deep Learning/Notebooks/data/names/Russian.txt', '/content/drive/MyDrive/Deep Learning/Notebooks/data/names/Korean.txt', '/content/drive/MyDrive/Deep Learning/Notebooks/data/names/Irish.txt', '/content/drive/MyDrive/Deep Learning/Notebooks/data/names/Portuguese.txt', '/content/drive/MyDrive/Deep Learning/Notebooks/data/names/Dutch.txt', '/content/drive/MyDrive/Deep Learning/Notebooks/data/names/Italian.txt', '/content/drive/MyDrive/Deep Learning/Notebooks/data/names/French.txt', '/content/drive/MyDrive/Deep Learning/Notebooks/data/names/Chinese.txt', '/content/drive/MyDrive/Deep Learning/Notebooks/data/names/Japanese.txt', '/content/drive/MyDrive/Deep Learning/Notebooks/data/names/Scottish.txt', '/content/drive/MyDrive/Deep Learning/Notebooks/data/names/Vietnamese.txt']\n"
          ]
        }
      ]
    },
    {
      "cell_type": "code",
      "source": [
        "findFiles(os.path.join(path,'data/names/*.txt'))"
      ],
      "metadata": {
        "colab": {
          "base_uri": "https://localhost:8080/"
        },
        "id": "-lu2yjgvnIOq",
        "outputId": "6c57d0ad-1209-4b16-aafb-681bf3c6fd06"
      },
      "execution_count": null,
      "outputs": [
        {
          "output_type": "execute_result",
          "data": {
            "text/plain": [
              "['/content/drive/MyDrive/Deep Learning/Notebooks/data/names/Polish.txt',\n",
              " '/content/drive/MyDrive/Deep Learning/Notebooks/data/names/Czech.txt',\n",
              " '/content/drive/MyDrive/Deep Learning/Notebooks/data/names/Spanish.txt',\n",
              " '/content/drive/MyDrive/Deep Learning/Notebooks/data/names/Arabic.txt',\n",
              " '/content/drive/MyDrive/Deep Learning/Notebooks/data/names/English.txt',\n",
              " '/content/drive/MyDrive/Deep Learning/Notebooks/data/names/German.txt',\n",
              " '/content/drive/MyDrive/Deep Learning/Notebooks/data/names/Greek.txt',\n",
              " '/content/drive/MyDrive/Deep Learning/Notebooks/data/names/Russian.txt',\n",
              " '/content/drive/MyDrive/Deep Learning/Notebooks/data/names/Korean.txt',\n",
              " '/content/drive/MyDrive/Deep Learning/Notebooks/data/names/Irish.txt',\n",
              " '/content/drive/MyDrive/Deep Learning/Notebooks/data/names/Portuguese.txt',\n",
              " '/content/drive/MyDrive/Deep Learning/Notebooks/data/names/Dutch.txt',\n",
              " '/content/drive/MyDrive/Deep Learning/Notebooks/data/names/Italian.txt',\n",
              " '/content/drive/MyDrive/Deep Learning/Notebooks/data/names/French.txt',\n",
              " '/content/drive/MyDrive/Deep Learning/Notebooks/data/names/Chinese.txt',\n",
              " '/content/drive/MyDrive/Deep Learning/Notebooks/data/names/Japanese.txt',\n",
              " '/content/drive/MyDrive/Deep Learning/Notebooks/data/names/Scottish.txt',\n",
              " '/content/drive/MyDrive/Deep Learning/Notebooks/data/names/Vietnamese.txt']"
            ]
          },
          "metadata": {},
          "execution_count": 7
        }
      ]
    },
    {
      "cell_type": "code",
      "source": [
        "import unicodedata\n",
        "import string"
      ],
      "metadata": {
        "id": "tTGhOSb_nCyg"
      },
      "execution_count": null,
      "outputs": []
    },
    {
      "cell_type": "code",
      "source": [
        "all_letters = string.ascii_letters + \" .,;'\"\n",
        "n_letters = len(all_letters)"
      ],
      "metadata": {
        "id": "_bffhOqJpXTU"
      },
      "execution_count": null,
      "outputs": []
    },
    {
      "cell_type": "code",
      "source": [
        "def unicodeToAscii(s):\n",
        "    return ''.join(\n",
        "        c for c in unicodedata.normalize('NFD', s)\n",
        "        if unicodedata.category(c) != 'Mn'\n",
        "        and c in all_letters\n",
        "    )"
      ],
      "metadata": {
        "id": "yVYG3nYEpX4R"
      },
      "execution_count": null,
      "outputs": []
    },
    {
      "cell_type": "code",
      "source": [
        "print(unicodeToAscii('Ślusàrski'))"
      ],
      "metadata": {
        "colab": {
          "base_uri": "https://localhost:8080/"
        },
        "id": "t7q_MbDMpfb3",
        "outputId": "c0b1eb10-0fa0-4252-b3ba-6d3afb9c0940"
      },
      "execution_count": null,
      "outputs": [
        {
          "output_type": "stream",
          "name": "stdout",
          "text": [
            "Slusarski\n"
          ]
        }
      ]
    },
    {
      "cell_type": "code",
      "source": [
        "# Build the category_lines dictionary, a list of names per language\n",
        "category_lines = {}\n",
        "all_categories = []\n",
        "\n",
        "# Read a file and split into lines\n",
        "def readLines(filename):\n",
        "    lines = open(filename, encoding='utf-8').read().strip().split('\\n')\n",
        "    return [unicodeToAscii(line) for line in lines]\n",
        "\n",
        "\n",
        "for filename in findFiles(path+'/data/names/*.txt'):\n",
        "  category = os.path.splitext(os.path.basename(filename))[0]\n",
        "  all_categories.append(category)\n",
        "  lines = readLines(filename)\n",
        "  category_lines[category] = lines"
      ],
      "metadata": {
        "id": "ua7mrxO7pk3-"
      },
      "execution_count": null,
      "outputs": []
    },
    {
      "cell_type": "code",
      "source": [
        "file_temp = '/content/drive/MyDrive/Deep Learning/Notebooks/data/names/Polish.txt'"
      ],
      "metadata": {
        "id": "_gnC8TurqrDj"
      },
      "execution_count": null,
      "outputs": []
    },
    {
      "cell_type": "code",
      "source": [
        "n_categories = len(all_categories)"
      ],
      "metadata": {
        "id": "Al7prht4qFbE"
      },
      "execution_count": null,
      "outputs": []
    },
    {
      "cell_type": "code",
      "source": [
        "all_categories"
      ],
      "metadata": {
        "colab": {
          "base_uri": "https://localhost:8080/"
        },
        "id": "TAyfo6u-tcth",
        "outputId": "1ba465f7-de51-41e4-84df-5866d661f545"
      },
      "execution_count": null,
      "outputs": [
        {
          "output_type": "execute_result",
          "data": {
            "text/plain": [
              "['Polish',\n",
              " 'Czech',\n",
              " 'Spanish',\n",
              " 'Arabic',\n",
              " 'English',\n",
              " 'German',\n",
              " 'Greek',\n",
              " 'Russian',\n",
              " 'Korean',\n",
              " 'Irish',\n",
              " 'Portuguese',\n",
              " 'Dutch',\n",
              " 'Italian',\n",
              " 'French',\n",
              " 'Chinese',\n",
              " 'Japanese',\n",
              " 'Scottish',\n",
              " 'Vietnamese']"
            ]
          },
          "metadata": {},
          "execution_count": 15
        }
      ]
    },
    {
      "cell_type": "code",
      "source": [
        "print(category_lines['Chinese'][:5])"
      ],
      "metadata": {
        "colab": {
          "base_uri": "https://localhost:8080/"
        },
        "id": "VCxQVPaHq1NQ",
        "outputId": "0c6f451a-364b-4c03-d36d-3b2fb4097055"
      },
      "execution_count": null,
      "outputs": [
        {
          "output_type": "stream",
          "name": "stdout",
          "text": [
            "['Ang', 'AuYong', 'Bai', 'Ban', 'Bao']\n"
          ]
        }
      ]
    },
    {
      "cell_type": "markdown",
      "source": [
        "# Turning names to Tensor"
      ],
      "metadata": {
        "id": "tp-eH-6Dti5s"
      }
    },
    {
      "cell_type": "code",
      "source": [
        "import torch\n",
        "\n",
        "# Find letter index from all_letters, e.g. \"a\" = 0\n",
        "def letterToIndex(letter):\n",
        "  return all_letters.find(letter)\n",
        "\n",
        "# Just for demonestration, turn a letter into a <1 x n_letters> Tensor\n",
        "def letterToTensor(letter):\n",
        "  tensor = torch.zeros(1, n_letters)\n",
        "  tensor[0][letterToIndex(letter)] = 1\n",
        "  return tensor\n",
        "\n",
        "# Turn a line into <line_length x 1 x n_letters> Tensor\n",
        "# or an array of one-hot letter vectors\n",
        "\n",
        "def lineToTensor(line):\n",
        "  tensor = torch.zeros(len(line),1,n_letters)\n",
        "  for li, letter in enumerate(line):\n",
        "    tensor[li][0][letterToIndex(letter)] = 1\n",
        "  return tensor"
      ],
      "metadata": {
        "id": "MJ6-wqMSq_Nt"
      },
      "execution_count": null,
      "outputs": []
    },
    {
      "cell_type": "code",
      "source": [
        "print(letterToTensor('J'))\n",
        "\n",
        "print(lineToTensor('Jones').size())"
      ],
      "metadata": {
        "colab": {
          "base_uri": "https://localhost:8080/"
        },
        "id": "FLVxFr5iuKFc",
        "outputId": "d0d408de-b194-4fb5-aac7-e973cd767416"
      },
      "execution_count": null,
      "outputs": [
        {
          "output_type": "stream",
          "name": "stdout",
          "text": [
            "tensor([[0., 0., 0., 0., 0., 0., 0., 0., 0., 0., 0., 0., 0., 0., 0., 0., 0., 0.,\n",
            "         0., 0., 0., 0., 0., 0., 0., 0., 0., 0., 0., 0., 0., 0., 0., 0., 0., 1.,\n",
            "         0., 0., 0., 0., 0., 0., 0., 0., 0., 0., 0., 0., 0., 0., 0., 0., 0., 0.,\n",
            "         0., 0., 0.]])\n",
            "torch.Size([5, 1, 57])\n"
          ]
        }
      ]
    },
    {
      "cell_type": "markdown",
      "source": [
        "# Creating the network"
      ],
      "metadata": {
        "id": "Wbbaru2AFUNG"
      }
    },
    {
      "cell_type": "markdown",
      "source": [
        "![image.png](data:image/png;base64,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)"
      ],
      "metadata": {
        "id": "Z1B-MZs3FcH4"
      }
    },
    {
      "cell_type": "code",
      "source": [
        "import torch.nn as nn\n",
        "\n",
        "class RNN(nn.Module):\n",
        "  def __init__(self, input_size, hidden_size, output_size):\n",
        "    super(RNN, self).__init__()\n",
        "\n",
        "    self.hidden_size = hidden_size\n",
        "\n",
        "    self.i2h = nn.Linear(input_size+hidden_size, hidden_size)\n",
        "    self.i2o = nn.Linear(input_size+hidden_size, output_size)\n",
        "    self.softmax = nn.LogSoftmax(dim=1)\n",
        "\n",
        "  def forward(self, input, hidden):\n",
        "    combined = torch.cat((input,hidden),1)\n",
        "    hidden = self.i2h(combined)\n",
        "    output = self.i2o(combined)\n",
        "    output = self.softmax(output)\n",
        "    return output, hidden\n",
        "  \n",
        "  def initHidden(self):\n",
        "    return torch.zeros(1, self.hidden_size)\n",
        "\n"
      ],
      "metadata": {
        "id": "Sphfukp-FWRL"
      },
      "execution_count": null,
      "outputs": []
    },
    {
      "cell_type": "code",
      "source": [
        "n_hidden = 128\n",
        "rnn = RNN(n_letters, n_hidden, n_categories)"
      ],
      "metadata": {
        "id": "oPyXlvRLHAGQ"
      },
      "execution_count": null,
      "outputs": []
    },
    {
      "cell_type": "code",
      "source": [
        "print(rnn)"
      ],
      "metadata": {
        "colab": {
          "base_uri": "https://localhost:8080/"
        },
        "id": "dx4XIQf4HKYD",
        "outputId": "31deda7d-dbd3-4b5e-ca2d-ad6a8bd6713f"
      },
      "execution_count": null,
      "outputs": [
        {
          "output_type": "stream",
          "name": "stdout",
          "text": [
            "RNN(\n",
            "  (i2h): Linear(in_features=185, out_features=128, bias=True)\n",
            "  (i2o): Linear(in_features=185, out_features=18, bias=True)\n",
            "  (softmax): LogSoftmax(dim=1)\n",
            ")\n"
          ]
        }
      ]
    },
    {
      "cell_type": "markdown",
      "source": [
        "To run a step of this network we need to pass an input (in our case, the Tensor for the current letter) and a previous hidden state (which we initialize as zeros at first). We’ll get back the output (probability of each language) and a next hidden state (which we keep for the next step)."
      ],
      "metadata": {
        "id": "nvkuG8XPHoC2"
      }
    },
    {
      "cell_type": "code",
      "source": [
        "input = letterToTensor('A')\n",
        "hidden = torch.zeros(1, n_hidden)\n",
        "\n",
        "output, next_hidden = rnn(input, hidden)"
      ],
      "metadata": {
        "id": "qgIuReZNHiji"
      },
      "execution_count": null,
      "outputs": []
    },
    {
      "cell_type": "code",
      "source": [
        "output"
      ],
      "metadata": {
        "colab": {
          "base_uri": "https://localhost:8080/"
        },
        "id": "Ur2vGcawHvNk",
        "outputId": "48cc67b0-e349-46c0-ebb4-456ce9d060f1"
      },
      "execution_count": null,
      "outputs": [
        {
          "output_type": "execute_result",
          "data": {
            "text/plain": [
              "tensor([[-2.9129, -2.9209, -2.9433, -2.8332, -2.9372, -2.9441, -2.9925, -2.8702,\n",
              "         -2.7732, -2.8915, -2.8092, -2.9973, -2.9541, -2.8613, -2.8680, -2.7891,\n",
              "         -2.9078, -2.8571]], grad_fn=<LogSoftmaxBackward0>)"
            ]
          },
          "metadata": {},
          "execution_count": 23
        }
      ]
    },
    {
      "cell_type": "markdown",
      "source": [
        "For the sake of efficiency we don’t want to be creating a new Tensor for every step, so we will use lineToTensor instead of letterToTensor and use slices. This could be further optimized by pre-computing batches of Tensors."
      ],
      "metadata": {
        "id": "-36Uu8brH-yW"
      }
    },
    {
      "cell_type": "code",
      "source": [
        "input = lineToTensor('Albert')\n",
        "hidden = torch.zeros(1, n_hidden)\n",
        "\n",
        "output, next_hidden = rnn(input[0], hidden)\n",
        "print(output)"
      ],
      "metadata": {
        "colab": {
          "base_uri": "https://localhost:8080/"
        },
        "id": "utpA6yLiH_MO",
        "outputId": "7a4ccd75-57fc-4705-d1b1-95d4ceb14357"
      },
      "execution_count": null,
      "outputs": [
        {
          "output_type": "stream",
          "name": "stdout",
          "text": [
            "tensor([[-2.9129, -2.9209, -2.9433, -2.8332, -2.9372, -2.9441, -2.9925, -2.8702,\n",
            "         -2.7732, -2.8915, -2.8092, -2.9973, -2.9541, -2.8613, -2.8680, -2.7891,\n",
            "         -2.9078, -2.8571]], grad_fn=<LogSoftmaxBackward0>)\n"
          ]
        }
      ]
    },
    {
      "cell_type": "markdown",
      "source": [
        "# Training"
      ],
      "metadata": {
        "id": "1qY4K1MJIIx5"
      }
    },
    {
      "cell_type": "markdown",
      "source": [
        "Preparing for the training\n",
        "\n",
        "Before going into training we should make a few helper functions. The first is to interpret the output of the network, which we know to be a likelihood of each category. We can use Tensor.topk to get the index of the greatest value:"
      ],
      "metadata": {
        "id": "P3GnWGagITcj"
      }
    },
    {
      "cell_type": "code",
      "source": [
        "def categoryFromOutput(output):\n",
        "    top_n, top_i = output.topk(1)\n",
        "    category_i = top_i[0].item()\n",
        "    return all_categories[category_i], category_i\n",
        "\n",
        "print(categoryFromOutput(output))"
      ],
      "metadata": {
        "colab": {
          "base_uri": "https://localhost:8080/"
        },
        "id": "KrcZp_DHIBWA",
        "outputId": "32f81acd-a751-47b6-9b86-50fabef55238"
      },
      "execution_count": null,
      "outputs": [
        {
          "output_type": "stream",
          "name": "stdout",
          "text": [
            "('Korean', 8)\n"
          ]
        }
      ]
    },
    {
      "cell_type": "markdown",
      "source": [
        "We will also want a quick way to get a training example (a name and its language):"
      ],
      "metadata": {
        "id": "O2qMVHuqI3bw"
      }
    },
    {
      "cell_type": "code",
      "source": [
        "import random\n",
        "\n",
        "def randomChoice(l):\n",
        "    return l[random.randint(0, len(l) - 1)]\n",
        "\n",
        "def randomTrainingExample():\n",
        "    category = randomChoice(all_categories)\n",
        "    line = randomChoice(category_lines[category])\n",
        "    category_tensor = torch.tensor([all_categories.index(category)], dtype=torch.long)\n",
        "    line_tensor = lineToTensor(line)\n",
        "    return category, line, category_tensor, line_tensor\n",
        "\n",
        "for i in range(10):\n",
        "    category, line, category_tensor, line_tensor = randomTrainingExample()\n",
        "    print('category =', category, '/ line =', line)"
      ],
      "metadata": {
        "colab": {
          "base_uri": "https://localhost:8080/"
        },
        "id": "JL-8_IMcIjc8",
        "outputId": "f04e0bfe-bcf6-4449-a7f0-1aa3dd27cd66"
      },
      "execution_count": null,
      "outputs": [
        {
          "output_type": "stream",
          "name": "stdout",
          "text": [
            "category = German / line = Pletcher\n",
            "category = Greek / line = Malihoudis\n",
            "category = Czech / line = Metjeka\n",
            "category = Portuguese / line = Santiago\n",
            "category = Russian / line = Babaevsky\n",
            "category = English / line = Fitchett\n",
            "category = Portuguese / line = Magalhaes\n",
            "category = Italian / line = Vestri\n",
            "category = Russian / line = Hudoleev\n",
            "category = Irish / line = Gallchobhar\n"
          ]
        }
      ]
    },
    {
      "cell_type": "markdown",
      "source": [
        "# Training the network"
      ],
      "metadata": {
        "id": "FZe2nQmnJuDq"
      }
    },
    {
      "cell_type": "markdown",
      "source": [
        "Now all it takes to train this network is show it a bunch of examples, have it make guesses, and tell it if it’s wrong.\n",
        "\n",
        "For the loss function nn.NLLLoss is appropriate, since the last layer of the RNN is nn.LogSoftmax."
      ],
      "metadata": {
        "id": "nge4c1cPJ1G8"
      }
    },
    {
      "cell_type": "code",
      "source": [
        "criterion = nn.NLLLoss()"
      ],
      "metadata": {
        "id": "2zbRjcAqJp-H"
      },
      "execution_count": null,
      "outputs": []
    },
    {
      "cell_type": "markdown",
      "source": [
        "Each loop of training will:\n",
        "\n",
        "- Create input and target tensors\n",
        "- Create a zeroed initial hidden state\n",
        "- Read each letter in and\n",
        " - Keep hidden state for next letter\n",
        "- Compare final output to target\n",
        "- Back-propagate\n",
        "- Return the output and loss"
      ],
      "metadata": {
        "id": "7DEjj8VIKRao"
      }
    },
    {
      "cell_type": "code",
      "source": [
        "learning_rate = 0.005 # If you set this too high, it might explode. If too low, it might not learn\n",
        "\n",
        "def train(category_tensor, line_tensor):\n",
        "    hidden = rnn.initHidden()\n",
        "\n",
        "    rnn.zero_grad()\n",
        "\n",
        "    for i in range(line_tensor.size()[0]):\n",
        "        output, hidden = rnn(line_tensor[i], hidden)\n",
        "\n",
        "    loss = criterion(output, category_tensor)\n",
        "    loss.backward()\n",
        "\n",
        "    # Add parameters' gradients to their values, multiplied by learning rate\n",
        "    for p in rnn.parameters():\n",
        "        p.data.add_(p.grad.data, alpha=-learning_rate)\n",
        "\n",
        "    return output, loss.item()"
      ],
      "metadata": {
        "id": "1M9dKq_8KCmM"
      },
      "execution_count": null,
      "outputs": []
    },
    {
      "cell_type": "markdown",
      "source": [
        "Now we just have to run that with a bunch of examples. Since the train function returns both the output and loss we can print its guesses and also keep track of loss for plotting. Since there are 1000s of examples we print only every print_every examples, and take an average of the loss."
      ],
      "metadata": {
        "id": "4RjyQZ0UL_sE"
      }
    },
    {
      "cell_type": "code",
      "source": [
        "import time\n",
        "import math\n",
        "\n",
        "n_iters = 100000\n",
        "print_every = 5000\n",
        "plot_every = 1000\n",
        "\n",
        "\n",
        "\n",
        "# Keep track of losses for plotting\n",
        "current_loss = 0\n",
        "all_losses = []\n",
        "\n",
        "def timeSince(since):\n",
        "    now = time.time()\n",
        "    s = now - since\n",
        "    m = math.floor(s / 60)\n",
        "    s -= m * 60\n",
        "    return '%dm %ds' % (m, s)\n",
        "\n",
        "start = time.time()\n",
        "\n",
        "for iter in range(1, n_iters + 1):\n",
        "    category, line, category_tensor, line_tensor = randomTrainingExample()\n",
        "    output, loss = train(category_tensor, line_tensor)\n",
        "    current_loss += loss\n",
        "\n",
        "    # Print iter number, loss, name and guess\n",
        "    if iter % print_every == 0:\n",
        "        guess, guess_i = categoryFromOutput(output)\n",
        "        correct = '✓' if guess == category else '✗ (%s)' % category\n",
        "        print('%d %d%% (%s) %.4f %s / %s %s' % (iter, iter / n_iters * 100, timeSince(start), loss, line, guess, correct))\n",
        "\n",
        "    # Add current loss avg to list of losses\n",
        "    if iter % plot_every == 0:\n",
        "        all_losses.append(current_loss / plot_every)\n",
        "        current_loss = 0"
      ],
      "metadata": {
        "colab": {
          "base_uri": "https://localhost:8080/"
        },
        "id": "FqDuZAurK-YS",
        "outputId": "6b7830e2-6f01-4edd-da26-76c4e1086045"
      },
      "execution_count": null,
      "outputs": [
        {
          "output_type": "stream",
          "name": "stdout",
          "text": [
            "5000 5% (0m 5s) 2.6297 Tahan / Chinese ✗ (Arabic)\n",
            "10000 10% (0m 10s) 2.8036 Matos / Greek ✗ (Portuguese)\n",
            "15000 15% (0m 16s) 1.4857 Backer / German ✓\n",
            "20000 20% (0m 21s) 2.0668 Edgell / French ✗ (English)\n",
            "25000 25% (0m 26s) 0.5656 Zanetti / Italian ✓\n",
            "30000 30% (0m 31s) 1.0211 Zhi / Chinese ✓\n",
            "35000 35% (0m 37s) 0.4210 Assaf / Arabic ✓\n",
            "40000 40% (0m 42s) 1.1259 Luc / Chinese ✗ (Vietnamese)\n",
            "45000 45% (0m 47s) 0.6332 Hwang / Korean ✓\n",
            "50000 50% (0m 53s) 1.4774 Martell / Spanish ✓\n",
            "55000 55% (0m 59s) 1.4518 She / Korean ✗ (Chinese)\n",
            "60000 60% (1m 4s) 0.5599 Klimek / Polish ✓\n",
            "65000 65% (1m 9s) 2.1914 Pokorny / English ✗ (Czech)\n",
            "70000 70% (1m 15s) 1.7752 Yoshimatsu / Greek ✗ (Japanese)\n",
            "75000 75% (1m 20s) 0.0382 Kedzierski / Polish ✓\n",
            "80000 80% (1m 25s) 1.2684 Mackay / Scottish ✓\n",
            "85000 85% (1m 31s) 3.1271 Baudin / Irish ✗ (French)\n",
            "90000 90% (1m 36s) 0.0917 Truong / Vietnamese ✓\n",
            "95000 95% (1m 41s) 1.3053 Matos / Greek ✗ (Portuguese)\n",
            "100000 100% (1m 47s) 0.9087 Roach / Irish ✓\n"
          ]
        }
      ]
    },
    {
      "cell_type": "markdown",
      "source": [
        "# Evaluating the result"
      ],
      "metadata": {
        "id": "hDDkamRANSN-"
      }
    },
    {
      "cell_type": "markdown",
      "source": [
        "To see how well the network performs on different categories, we will create a confusion matrix, indicating for every actual language (rows) which language the network guesses (columns). To calculate the confusion matrix a bunch of samples are run through the network with evaluate(), which is the same as train() minus the backprop"
      ],
      "metadata": {
        "id": "hL_84oT_NVA2"
      }
    },
    {
      "cell_type": "code",
      "source": [
        "import matplotlib.pyplot as plt\n",
        "import matplotlib.ticker as ticker\n",
        "\n",
        "plt.figure()\n",
        "plt.plot(all_losses)"
      ],
      "metadata": {
        "colab": {
          "base_uri": "https://localhost:8080/",
          "height": 283
        },
        "id": "swKv7THMN5rS",
        "outputId": "f94730b6-a02a-408a-81b0-94bd986244e8"
      },
      "execution_count": null,
      "outputs": [
        {
          "output_type": "execute_result",
          "data": {
            "text/plain": [
              "[<matplotlib.lines.Line2D at 0x7fcd92e37bd0>]"
            ]
          },
          "metadata": {},
          "execution_count": 36
        },
        {
          "output_type": "display_data",
          "data": {
            "text/plain": [
              "<Figure size 432x288 with 1 Axes>"
            ],
            "image/png": "[encoded data removed]"
          },
          "metadata": {
            "needs_background": "light"
          }
        }
      ]
    },
    {
      "cell_type": "code",
      "source": [
        "# Keep track of correct guesses in a confusion matrix\n",
        "confusion = torch.zeros(n_categories, n_categories)\n",
        "n_confusion = 10000\n",
        "\n",
        "# Just return an output given a line\n",
        "def evaluate(line_tensor):\n",
        "    hidden = rnn.initHidden()\n",
        "\n",
        "    for i in range(line_tensor.size()[0]):\n",
        "        output, hidden = rnn(line_tensor[i], hidden)\n",
        "\n",
        "    return output\n",
        "\n",
        "# Go through a bunch of examples and record which are correctly guessed\n",
        "for i in range(n_confusion):\n",
        "    category, line, category_tensor, line_tensor = randomTrainingExample()\n",
        "    output = evaluate(line_tensor)\n",
        "    guess, guess_i = categoryFromOutput(output)\n",
        "    category_i = all_categories.index(category)\n",
        "    confusion[category_i][guess_i] += 1\n",
        "\n",
        "# Normalize by dividing every row by its sum\n",
        "for i in range(n_categories):\n",
        "    confusion[i] = confusion[i] / confusion[i].sum()\n",
        "\n",
        "# Set up plot\n",
        "fig = plt.figure()\n",
        "ax = fig.add_subplot(111)\n",
        "cax = ax.matshow(confusion.numpy())\n",
        "fig.colorbar(cax)\n",
        "\n",
        "# Set up axes\n",
        "ax.set_xticklabels([''] + all_categories, rotation=90)\n",
        "ax.set_yticklabels([''] + all_categories)\n",
        "\n",
        "# Force label at every tick\n",
        "ax.xaxis.set_major_locator(ticker.MultipleLocator(1))\n",
        "ax.yaxis.set_major_locator(ticker.MultipleLocator(1))\n",
        "\n",
        "# sphinx_gallery_thumbnail_number = 2\n",
        "plt.show()"
      ],
      "metadata": {
        "colab": {
          "base_uri": "https://localhost:8080/",
          "height": 320
        },
        "id": "Y-CURXeTMsLc",
        "outputId": "2ff5f504-d7a6-43f6-b612-77b3597ffcac"
      },
      "execution_count": null,
      "outputs": [
        {
          "output_type": "display_data",
          "data": {
            "text/plain": [
              "<Figure size 432x288 with 2 Axes>"
            ],
            "image/png": "[encoded data removed]"
          },
          "metadata": {
            "needs_background": "light"
          }
        }
      ]
    },
    {
      "cell_type": "code",
      "source": [
        "def predict(input_line, n_predictions=3):\n",
        "    print('\\n> %s' % input_line)\n",
        "    with torch.no_grad():\n",
        "        output = evaluate(lineToTensor(input_line))\n",
        "\n",
        "        # Get top N categories\n",
        "        topv, topi = output.topk(n_predictions, 1, True)\n",
        "        predictions = []\n",
        "\n",
        "        for i in range(n_predictions):\n",
        "            value = topv[0][i].item()\n",
        "            category_index = topi[0][i].item()\n",
        "            print('(%.2f) %s' % (value, all_categories[category_index]))\n",
        "            predictions.append([value, all_categories[category_index]])\n",
        "\n",
        "predict('Dovesky')\n",
        "predict('Jackson')\n",
        "predict('Satoshi')"
      ],
      "metadata": {
        "colab": {
          "base_uri": "https://localhost:8080/"
        },
        "id": "KfsivOI-N_gk",
        "outputId": "a4512481-545b-4f74-c71c-66bf9e97f9cc"
      },
      "execution_count": null,
      "outputs": [
        {
          "output_type": "stream",
          "name": "stdout",
          "text": [
            "\n",
            "> Dovesky\n",
            "(-0.82) Czech\n",
            "(-0.95) Russian\n",
            "(-2.19) English\n",
            "\n",
            "> Jackson\n",
            "(-0.17) Scottish\n",
            "(-2.29) English\n",
            "(-4.15) Czech\n",
            "\n",
            "> Satoshi\n",
            "(-0.91) Japanese\n",
            "(-1.44) Arabic\n",
            "(-2.13) Italian\n"
          ]
        }
      ]
    }
  ]
}